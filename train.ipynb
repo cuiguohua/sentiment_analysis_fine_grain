{
 "cells": [
  {
   "cell_type": "code",
   "execution_count": 1,
   "metadata": {},
   "outputs": [],
   "source": [
    "import tqdm\n",
    "import os\n",
    "import argparse\n",
    "import config\n",
    "import logging\n",
    "import numpy as np\n",
    "from skift import FirstColFtClassifier\n",
    "from sklearn.externals import joblib\n",
    "from util import load_data_from_csv, seg_words, get_f1_score, seg_words_multiprocessor\n",
    "\n",
    "logging.basicConfig(level=logging.INFO, format='%(asctime)s [%(levelname)s] <%(processName)s> (%(threadName)s) %(message)s')\n",
    "logger = logging.getLogger(__name__)"
   ]
  },
  {
   "cell_type": "code",
   "execution_count": 2,
   "metadata": {},
   "outputs": [],
   "source": [
    "learning_rate = 1.0\n",
    "epoch = 10\n",
    "word_ngrams = 3\n",
    "min_count = 1\n",
    "model_name = 'fasttext_model_lr{}_e{}_n{}_c{}.pkl'.format(learning_rate, epoch, word_ngrams, min_count)"
   ]
  },
  {
   "cell_type": "code",
   "execution_count": 3,
   "metadata": {},
   "outputs": [],
   "source": [
    "# load train data\n",
    "# logger.info(\"start load load\")\n",
    "train_data_df = load_data_from_csv(config.train_data_path)\n",
    "validate_data_df = load_data_from_csv(config.validate_data_path)\n",
    "\n",
    "content_train = train_data_df.iloc[:, 1]"
   ]
  },
  {
   "cell_type": "code",
   "execution_count": null,
   "metadata": {},
   "outputs": [],
   "source": [
    "train_data_df.head()"
   ]
  },
  {
   "cell_type": "code",
   "execution_count": null,
   "metadata": {},
   "outputs": [],
   "source": [
    "logger.info(\"start seg train data\")\n",
    "content_train = seg_words_multiprocessor(content_train)\n",
    "logger.info(\"complete seg train data\")"
   ]
  },
  {
   "cell_type": "code",
   "execution_count": null,
   "metadata": {},
   "outputs": [],
   "source": [
    "content_train[0]"
   ]
  },
  {
   "cell_type": "code",
   "execution_count": null,
   "metadata": {},
   "outputs": [],
   "source": [
    "logger.info(\"prepare train format\")\n",
    "train_data_format = np.asarray([content_train]).T\n",
    "logger.info(\"complete formate train data\")\n",
    "\n",
    "np.save('train_data_format', train_data_format)"
   ]
  },
  {
   "cell_type": "code",
   "execution_count": 6,
   "metadata": {},
   "outputs": [],
   "source": [
    "train_data_format = np.load('train_data_format.npy')"
   ]
  },
  {
   "cell_type": "code",
   "execution_count": null,
   "metadata": {},
   "outputs": [],
   "source": [
    "train_data_format.shape\n",
    "train_data_format[0]"
   ]
  },
  {
   "cell_type": "code",
   "execution_count": 8,
   "metadata": {},
   "outputs": [],
   "source": [
    "columns = train_data_df.columns.values.tolist()"
   ]
  },
  {
   "cell_type": "code",
   "execution_count": 8,
   "metadata": {},
   "outputs": [
    {
     "data": {
      "text/plain": [
       "['id',\n",
       " 'content',\n",
       " 'location_traffic_convenience',\n",
       " 'location_distance_from_business_district',\n",
       " 'location_easy_to_find',\n",
       " 'service_wait_time',\n",
       " 'service_waiters_attitude',\n",
       " 'service_parking_convenience',\n",
       " 'service_serving_speed',\n",
       " 'price_level',\n",
       " 'price_cost_effective',\n",
       " 'price_discount',\n",
       " 'environment_decoration',\n",
       " 'environment_noise',\n",
       " 'environment_space',\n",
       " 'environment_cleaness',\n",
       " 'dish_portion',\n",
       " 'dish_taste',\n",
       " 'dish_look',\n",
       " 'dish_recommendation',\n",
       " 'others_overall_experience',\n",
       " 'others_willing_to_consume_again']"
      ]
     },
     "execution_count": 8,
     "metadata": {},
     "output_type": "execute_result"
    }
   ],
   "source": [
    "columns"
   ]
  },
  {
   "cell_type": "code",
   "execution_count": 9,
   "metadata": {},
   "outputs": [
    {
     "name": "stderr",
     "output_type": "stream",
     "text": [
      "100%|██████████| 20/20 [07:48<00:00, 23.04s/it]\n"
     ]
    },
    {
     "data": {
      "text/plain": [
       "['/jet/prs/workspace/fasttext/data/model/fasttext_model_lr1.0_e10_n3_c1.pkl']"
      ]
     },
     "execution_count": 9,
     "metadata": {},
     "output_type": "execute_result"
    }
   ],
   "source": [
    "# model train\n",
    "\n",
    "# logger.info(\"start train model\")\n",
    "classifier_dict = dict()\n",
    "for column in tqdm.tqdm(columns[2:]):\n",
    "    train_label = train_data_df[column]\n",
    "#     logger.info(\"start train %s model\" % column)\n",
    "    sk_clf = FirstColFtClassifier(lr=learning_rate, epoch=epoch,\n",
    "                                  wordNgrams=word_ngrams,\n",
    "                                  minCount=min_count, verbose=1)\n",
    "    sk_clf.fit(train_data_format, train_label)\n",
    "#     logger.info(\"complete train %s model\" % column)\n",
    "    classifier_dict[column] = sk_clf\n",
    "# logger.info(\"complete train model\")\n",
    "# logger.info(\"start save model\")\n",
    "model_path = config.model_path\n",
    "if not os.path.exists(model_path):\n",
    "    os.makedirs(model_path)\n",
    "joblib.dump(classifier_dict, model_path + model_name)\n",
    "# logger.info(\"complete svae model\")"
   ]
  },
  {
   "cell_type": "code",
   "execution_count": null,
   "metadata": {},
   "outputs": [],
   "source": [
    "joblib.dump(classifier_dict, model_path + model_name)"
   ]
  },
  {
   "cell_type": "code",
   "execution_count": 5,
   "metadata": {},
   "outputs": [],
   "source": [
    "model_path = config.model_path\n",
    "classifier_dict = joblib.load(model_path + model_name)"
   ]
  },
  {
   "cell_type": "code",
   "execution_count": 10,
   "metadata": {},
   "outputs": [
    {
     "data": {
      "text/plain": [
       "0"
      ]
     },
     "execution_count": 10,
     "metadata": {},
     "output_type": "execute_result"
    }
   ],
   "source": [
    "# del train_data_format\n",
    "# del train_data_df\n",
    "# del validate_data_df\n",
    "import gc\n",
    "gc.collect()"
   ]
  },
  {
   "cell_type": "code",
   "execution_count": null,
   "metadata": {},
   "outputs": [],
   "source": [
    "# validata model\n",
    "content_validata = validate_data_df.iloc[:, 1]\n",
    "\n",
    "logger.info(\"start seg validata data\")\n",
    "content_validata = seg_words(content_validata)\n",
    "logger.info(\"complet seg validata data\")\n",
    "\n",
    "logger.info(\"prepare valid format\")\n",
    "validata_data_format = np.asarray([content_validata]).T\n",
    "logger.info(\"complete formate train data\")\n",
    "\n",
    "np.save('validata_data_format', validata_data_format)"
   ]
  },
  {
   "cell_type": "code",
   "execution_count": 6,
   "metadata": {},
   "outputs": [],
   "source": [
    "validata_data_format = np.load('validata_data_format.npy')"
   ]
  },
  {
   "cell_type": "code",
   "execution_count": 9,
   "metadata": {},
   "outputs": [
    {
     "name": "stderr",
     "output_type": "stream",
     "text": [
      "2019-04-01 15:30:58,428 [INFO] <MainProcess> (MainThread) start compute f1 score for validata model\n",
      "2019-04-01 15:32:12,435 [INFO] <MainProcess> (MainThread) location_traffic_convenience: 0.51\n",
      "2019-04-01 15:32:12,437 [INFO] <MainProcess> (MainThread) location_distance_from_business_district: 0.41\n",
      "2019-04-01 15:32:12,438 [INFO] <MainProcess> (MainThread) location_easy_to_find: 0.60\n",
      "2019-04-01 15:32:12,439 [INFO] <MainProcess> (MainThread) service_wait_time: 0.49\n",
      "2019-04-01 15:32:12,439 [INFO] <MainProcess> (MainThread) service_waiters_attitude: 0.68\n",
      "2019-04-01 15:32:12,440 [INFO] <MainProcess> (MainThread) service_parking_convenience: 0.56\n",
      "2019-04-01 15:32:12,441 [INFO] <MainProcess> (MainThread) service_serving_speed: 0.57\n",
      "2019-04-01 15:32:12,442 [INFO] <MainProcess> (MainThread) price_level: 0.66\n",
      "2019-04-01 15:32:12,443 [INFO] <MainProcess> (MainThread) price_cost_effective: 0.60\n",
      "2019-04-01 15:32:12,444 [INFO] <MainProcess> (MainThread) price_discount: 0.56\n",
      "2019-04-01 15:32:12,446 [INFO] <MainProcess> (MainThread) environment_decoration: 0.53\n",
      "2019-04-01 15:32:12,447 [INFO] <MainProcess> (MainThread) environment_noise: 0.56\n",
      "2019-04-01 15:32:12,448 [INFO] <MainProcess> (MainThread) environment_space: 0.55\n",
      "2019-04-01 15:32:12,449 [INFO] <MainProcess> (MainThread) environment_cleaness: 0.56\n",
      "2019-04-01 15:32:12,450 [INFO] <MainProcess> (MainThread) dish_portion: 0.56\n",
      "2019-04-01 15:32:12,451 [INFO] <MainProcess> (MainThread) dish_taste: 0.58\n",
      "2019-04-01 15:32:12,452 [INFO] <MainProcess> (MainThread) dish_look: 0.42\n",
      "2019-04-01 15:32:12,453 [INFO] <MainProcess> (MainThread) dish_recommendation: 0.59\n",
      "2019-04-01 15:32:12,454 [INFO] <MainProcess> (MainThread) others_overall_experience: 0.51\n",
      "2019-04-01 15:32:12,456 [INFO] <MainProcess> (MainThread) others_willing_to_consume_again: 0.51\n",
      "2019-04-01 15:32:12,456 [INFO] <MainProcess> (MainThread) f1_score: 0.5497184720102635\n",
      "2019-04-01 15:32:12,457 [INFO] <MainProcess> (MainThread) complete compute f1 score for validate model\n"
     ]
    }
   ],
   "source": [
    "logger.info(\"start compute f1 score for validata model\")\n",
    "f1_score_dict = dict()\n",
    "for column in columns[2:]:\n",
    "    true_label = np.asarray(validate_data_df[column])\n",
    "    classifier = classifier_dict[column]\n",
    "    pred_label = classifier.predict(validata_data_format).astype(int)\n",
    "    f1_score = get_f1_score(true_label, pred_label)\n",
    "    f1_score_dict[column] = f1_score\n",
    "\n",
    "f1_score = np.mean(list(f1_score_dict.values()))\n",
    "# str_score = \"\\n\"\n",
    "for column in columns[2:]:\n",
    "    logger.info(\"{:}: {:.2f}\".format(column, f1_score_dict[column]))\n",
    "#     print(\"{:}: {:.2f}\".format(column, f1_score_dict[column]))\n",
    "#     str_score += column + \":\" + str(f1_score_dict[column]) + \"\\n\"\n",
    "\n",
    "# logger.info(\"f1_scores: %s\\n\" % str_score)\n",
    "logger.info(\"f1_score: %s\" % f1_score)\n",
    "logger.info(\"complete compute f1 score for validate model\")"
   ]
  },
  {
   "cell_type": "code",
   "execution_count": null,
   "metadata": {},
   "outputs": [],
   "source": []
  }
 ],
 "metadata": {
  "kernelspec": {
   "display_name": "fastvene2",
   "language": "python",
   "name": "fastvene2"
  },
  "language_info": {
   "codemirror_mode": {
    "name": "ipython",
    "version": 3
   },
   "file_extension": ".py",
   "mimetype": "text/x-python",
   "name": "python",
   "nbconvert_exporter": "python",
   "pygments_lexer": "ipython3",
   "version": "3.6.3"
  }
 },
 "nbformat": 4,
 "nbformat_minor": 2
}
